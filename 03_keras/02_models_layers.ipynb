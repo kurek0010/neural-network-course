{
  "nbformat": 4,
  "nbformat_minor": 0,
  "metadata": {
    "colab": {
      "name": "Untitled0.ipynb",
      "provenance": [],
      "include_colab_link": true
    },
    "kernelspec": {
      "name": "python3",
      "display_name": "Python 3"
    }
  },
  "cells": [
    {
      "cell_type": "markdown",
      "metadata": {
        "id": "view-in-github",
        "colab_type": "text"
      },
      "source": [
        "<a href=\"https://colab.research.google.com/github/kurek0010/neural-network-course/blob/master/03_keras/02_models_layers.ipynb\" target=\"_parent\"><img src=\"https://colab.research.google.com/assets/colab-badge.svg\" alt=\"Open In Colab\"/></a>"
      ]
    },
    {
      "cell_type": "markdown",
      "metadata": {
        "id": "ROu6OBCDUcyz"
      },
      "source": [
        "* @author: krakowiakpawel9@gmail.com  \n",
        "* @site: e-smartdata.org"
      ]
    },
    {
      "cell_type": "markdown",
      "metadata": {
        "id": "2pcjQyULGHOU"
      },
      "source": [
        "### Warstwy w bibliotece Keras"
      ]
    },
    {
      "cell_type": "code",
      "metadata": {
        "id": "H59a9btKT4hW"
      },
      "source": [
        "# Przygotowanie środowiska do pracy z Tensorflow 2.0.\n",
        "# Jeśli otrzymasz błąd podczas instalacji Tensorflow uruchom tę komórkę raz jeszcze.\n",
        "\n",
        "!pip uninstall -y tensorflow\n",
        "!pip install -q tensorflow==2.0.0"
      ],
      "execution_count": null,
      "outputs": []
    },
    {
      "cell_type": "code",
      "metadata": {
        "id": "ozTByixeE6qy",
        "colab": {
          "base_uri": "https://localhost:8080/",
          "height": 35
        },
        "outputId": "8d598417-9e9d-4db8-f43c-f01915ff13d5"
      },
      "source": [
        "import numpy as np\n",
        "import plotly.express as px\n",
        "\n",
        "import tensorflow as tf\n",
        "from tensorflow.keras.datasets.mnist import load_data\n",
        "from tensorflow.keras.models import Sequential\n",
        "from tensorflow.keras.layers import Flatten, Dense, Dropout\n",
        "tf.__version__"
      ],
      "execution_count": 1,
      "outputs": [
        {
          "output_type": "execute_result",
          "data": {
            "text/plain": [
              "'2.18.0'"
            ],
            "application/vnd.google.colaboratory.intrinsic+json": {
              "type": "string"
            }
          },
          "metadata": {},
          "execution_count": 1
        }
      ]
    },
    {
      "cell_type": "code",
      "metadata": {
        "id": "4dJSEcqtFhnA",
        "outputId": "34190bac-a96e-4b1d-ade3-e00cfe75c3cf",
        "colab": {
          "base_uri": "https://localhost:8080/"
        }
      },
      "source": [
        "(X_train, y_train), (X_test, y_test) = load_data()"
      ],
      "execution_count": 2,
      "outputs": [
        {
          "output_type": "stream",
          "name": "stdout",
          "text": [
            "Downloading data from https://storage.googleapis.com/tensorflow/tf-keras-datasets/mnist.npz\n",
            "\u001b[1m11490434/11490434\u001b[0m \u001b[32m━━━━━━━━━━━━━━━━━━━━\u001b[0m\u001b[37m\u001b[0m \u001b[1m0s\u001b[0m 0us/step\n"
          ]
        }
      ]
    },
    {
      "cell_type": "code",
      "metadata": {
        "id": "sJlywk6UFlBq",
        "colab": {
          "base_uri": "https://localhost:8080/"
        },
        "outputId": "f64b6130-4c55-4140-d91c-f2992dbe1169"
      },
      "source": [
        "print(f'X_train shape: {X_train.shape}')\n",
        "print(f'y_train shape: {y_train.shape}')\n",
        "print(f'X_test shape: {X_test.shape}')\n",
        "print(f'y_test shape: {y_test.shape}')"
      ],
      "execution_count": 3,
      "outputs": [
        {
          "output_type": "stream",
          "name": "stdout",
          "text": [
            "X_train shape: (60000, 28, 28)\n",
            "y_train shape: (60000,)\n",
            "X_test shape: (10000, 28, 28)\n",
            "y_test shape: (10000,)\n"
          ]
        }
      ]
    },
    {
      "cell_type": "code",
      "metadata": {
        "id": "JF5UVnaHFooz"
      },
      "source": [
        "X_train = X_train / 255.\n",
        "X_test = X_test / 255."
      ],
      "execution_count": 4,
      "outputs": []
    },
    {
      "cell_type": "code",
      "metadata": {
        "id": "8iWwV3QaFZGn",
        "colab": {
          "base_uri": "https://localhost:8080/",
          "height": 265
        },
        "outputId": "46f9cb92-7307-4091-c629-30557a5fa01f"
      },
      "source": [
        "model = Sequential()\n",
        "model.add(Flatten(input_shape=(28, 28)))\n",
        "model.add(Dense(units=128, activation='relu'))\n",
        "model.add(Dropout(0.2))\n",
        "model.add(Dense(units=10, activation='softmax'))\n",
        "\n",
        "model.compile(optimizer='adam',\n",
        "              loss='sparse_categorical_crossentropy',\n",
        "              metrics=['accuracy'])\n",
        "\n",
        "model.summary()"
      ],
      "execution_count": 6,
      "outputs": [
        {
          "output_type": "display_data",
          "data": {
            "text/plain": [
              "\u001b[1mModel: \"sequential_1\"\u001b[0m\n"
            ],
            "text/html": [
              "<pre style=\"white-space:pre;overflow-x:auto;line-height:normal;font-family:Menlo,'DejaVu Sans Mono',consolas,'Courier New',monospace\"><span style=\"font-weight: bold\">Model: \"sequential_1\"</span>\n",
              "</pre>\n"
            ]
          },
          "metadata": {}
        },
        {
          "output_type": "display_data",
          "data": {
            "text/plain": [
              "┏━━━━━━━━━━━━━━━━━━━━━━━━━━━━━━━━━━━━━━┳━━━━━━━━━━━━━━━━━━━━━━━━━━━━━┳━━━━━━━━━━━━━━━━━┓\n",
              "┃\u001b[1m \u001b[0m\u001b[1mLayer (type)                        \u001b[0m\u001b[1m \u001b[0m┃\u001b[1m \u001b[0m\u001b[1mOutput Shape               \u001b[0m\u001b[1m \u001b[0m┃\u001b[1m \u001b[0m\u001b[1m        Param #\u001b[0m\u001b[1m \u001b[0m┃\n",
              "┡━━━━━━━━━━━━━━━━━━━━━━━━━━━━━━━━━━━━━━╇━━━━━━━━━━━━━━━━━━━━━━━━━━━━━╇━━━━━━━━━━━━━━━━━┩\n",
              "│ flatten_1 (\u001b[38;5;33mFlatten\u001b[0m)                  │ (\u001b[38;5;45mNone\u001b[0m, \u001b[38;5;34m784\u001b[0m)                 │               \u001b[38;5;34m0\u001b[0m │\n",
              "├──────────────────────────────────────┼─────────────────────────────┼─────────────────┤\n",
              "│ dense_2 (\u001b[38;5;33mDense\u001b[0m)                      │ (\u001b[38;5;45mNone\u001b[0m, \u001b[38;5;34m128\u001b[0m)                 │         \u001b[38;5;34m100,480\u001b[0m │\n",
              "├──────────────────────────────────────┼─────────────────────────────┼─────────────────┤\n",
              "│ dropout_1 (\u001b[38;5;33mDropout\u001b[0m)                  │ (\u001b[38;5;45mNone\u001b[0m, \u001b[38;5;34m128\u001b[0m)                 │               \u001b[38;5;34m0\u001b[0m │\n",
              "├──────────────────────────────────────┼─────────────────────────────┼─────────────────┤\n",
              "│ dense_3 (\u001b[38;5;33mDense\u001b[0m)                      │ (\u001b[38;5;45mNone\u001b[0m, \u001b[38;5;34m10\u001b[0m)                  │           \u001b[38;5;34m1,290\u001b[0m │\n",
              "└──────────────────────────────────────┴─────────────────────────────┴─────────────────┘\n"
            ],
            "text/html": [
              "<pre style=\"white-space:pre;overflow-x:auto;line-height:normal;font-family:Menlo,'DejaVu Sans Mono',consolas,'Courier New',monospace\">┏━━━━━━━━━━━━━━━━━━━━━━━━━━━━━━━━━━━━━━┳━━━━━━━━━━━━━━━━━━━━━━━━━━━━━┳━━━━━━━━━━━━━━━━━┓\n",
              "┃<span style=\"font-weight: bold\"> Layer (type)                         </span>┃<span style=\"font-weight: bold\"> Output Shape                </span>┃<span style=\"font-weight: bold\">         Param # </span>┃\n",
              "┡━━━━━━━━━━━━━━━━━━━━━━━━━━━━━━━━━━━━━━╇━━━━━━━━━━━━━━━━━━━━━━━━━━━━━╇━━━━━━━━━━━━━━━━━┩\n",
              "│ flatten_1 (<span style=\"color: #0087ff; text-decoration-color: #0087ff\">Flatten</span>)                  │ (<span style=\"color: #00d7ff; text-decoration-color: #00d7ff\">None</span>, <span style=\"color: #00af00; text-decoration-color: #00af00\">784</span>)                 │               <span style=\"color: #00af00; text-decoration-color: #00af00\">0</span> │\n",
              "├──────────────────────────────────────┼─────────────────────────────┼─────────────────┤\n",
              "│ dense_2 (<span style=\"color: #0087ff; text-decoration-color: #0087ff\">Dense</span>)                      │ (<span style=\"color: #00d7ff; text-decoration-color: #00d7ff\">None</span>, <span style=\"color: #00af00; text-decoration-color: #00af00\">128</span>)                 │         <span style=\"color: #00af00; text-decoration-color: #00af00\">100,480</span> │\n",
              "├──────────────────────────────────────┼─────────────────────────────┼─────────────────┤\n",
              "│ dropout_1 (<span style=\"color: #0087ff; text-decoration-color: #0087ff\">Dropout</span>)                  │ (<span style=\"color: #00d7ff; text-decoration-color: #00d7ff\">None</span>, <span style=\"color: #00af00; text-decoration-color: #00af00\">128</span>)                 │               <span style=\"color: #00af00; text-decoration-color: #00af00\">0</span> │\n",
              "├──────────────────────────────────────┼─────────────────────────────┼─────────────────┤\n",
              "│ dense_3 (<span style=\"color: #0087ff; text-decoration-color: #0087ff\">Dense</span>)                      │ (<span style=\"color: #00d7ff; text-decoration-color: #00d7ff\">None</span>, <span style=\"color: #00af00; text-decoration-color: #00af00\">10</span>)                  │           <span style=\"color: #00af00; text-decoration-color: #00af00\">1,290</span> │\n",
              "└──────────────────────────────────────┴─────────────────────────────┴─────────────────┘\n",
              "</pre>\n"
            ]
          },
          "metadata": {}
        },
        {
          "output_type": "display_data",
          "data": {
            "text/plain": [
              "\u001b[1m Total params: \u001b[0m\u001b[38;5;34m101,770\u001b[0m (397.54 KB)\n"
            ],
            "text/html": [
              "<pre style=\"white-space:pre;overflow-x:auto;line-height:normal;font-family:Menlo,'DejaVu Sans Mono',consolas,'Courier New',monospace\"><span style=\"font-weight: bold\"> Total params: </span><span style=\"color: #00af00; text-decoration-color: #00af00\">101,770</span> (397.54 KB)\n",
              "</pre>\n"
            ]
          },
          "metadata": {}
        },
        {
          "output_type": "display_data",
          "data": {
            "text/plain": [
              "\u001b[1m Trainable params: \u001b[0m\u001b[38;5;34m101,770\u001b[0m (397.54 KB)\n"
            ],
            "text/html": [
              "<pre style=\"white-space:pre;overflow-x:auto;line-height:normal;font-family:Menlo,'DejaVu Sans Mono',consolas,'Courier New',monospace\"><span style=\"font-weight: bold\"> Trainable params: </span><span style=\"color: #00af00; text-decoration-color: #00af00\">101,770</span> (397.54 KB)\n",
              "</pre>\n"
            ]
          },
          "metadata": {}
        },
        {
          "output_type": "display_data",
          "data": {
            "text/plain": [
              "\u001b[1m Non-trainable params: \u001b[0m\u001b[38;5;34m0\u001b[0m (0.00 B)\n"
            ],
            "text/html": [
              "<pre style=\"white-space:pre;overflow-x:auto;line-height:normal;font-family:Menlo,'DejaVu Sans Mono',consolas,'Courier New',monospace\"><span style=\"font-weight: bold\"> Non-trainable params: </span><span style=\"color: #00af00; text-decoration-color: #00af00\">0</span> (0.00 B)\n",
              "</pre>\n"
            ]
          },
          "metadata": {}
        }
      ]
    },
    {
      "cell_type": "code",
      "metadata": {
        "id": "din61ptDFZYE",
        "colab": {
          "base_uri": "https://localhost:8080/",
          "height": 399
        },
        "outputId": "dd39214b-d3f3-4b37-a149-ebeda58464e5"
      },
      "source": [
        "model.fit(X_train, y_train, epochs=10, validation_split=0.2, batch_size=32)"
      ],
      "execution_count": null,
      "outputs": [
        {
          "output_type": "stream",
          "text": [
            "Train on 48000 samples, validate on 12000 samples\n",
            "Epoch 1/10\n",
            "48000/48000 [==============================] - 8s 161us/sample - loss: 0.3284 - accuracy: 0.9037 - val_loss: 0.1635 - val_accuracy: 0.9530\n",
            "Epoch 2/10\n",
            "48000/48000 [==============================] - 8s 176us/sample - loss: 0.1693 - accuracy: 0.9522 - val_loss: 0.1259 - val_accuracy: 0.9643\n",
            "Epoch 3/10\n",
            "48000/48000 [==============================] - 8s 161us/sample - loss: 0.1309 - accuracy: 0.9623 - val_loss: 0.1124 - val_accuracy: 0.9692\n",
            "Epoch 4/10\n",
            "48000/48000 [==============================] - 7s 141us/sample - loss: 0.1171 - accuracy: 0.9663 - val_loss: 0.1130 - val_accuracy: 0.9701\n",
            "Epoch 5/10\n",
            "48000/48000 [==============================] - 7s 140us/sample - loss: 0.1034 - accuracy: 0.9709 - val_loss: 0.1122 - val_accuracy: 0.9712\n",
            "Epoch 6/10\n",
            "48000/48000 [==============================] - 7s 140us/sample - loss: 0.0983 - accuracy: 0.9734 - val_loss: 0.1153 - val_accuracy: 0.9714\n",
            "Epoch 7/10\n",
            "48000/48000 [==============================] - 7s 139us/sample - loss: 0.0890 - accuracy: 0.9757 - val_loss: 0.1101 - val_accuracy: 0.9743\n",
            "Epoch 8/10\n",
            "48000/48000 [==============================] - 7s 138us/sample - loss: 0.0840 - accuracy: 0.9780 - val_loss: 0.1109 - val_accuracy: 0.9734\n",
            "Epoch 9/10\n",
            "48000/48000 [==============================] - 6s 135us/sample - loss: 0.0813 - accuracy: 0.9786 - val_loss: 0.1130 - val_accuracy: 0.9743\n",
            "Epoch 10/10\n",
            "48000/48000 [==============================] - 7s 141us/sample - loss: 0.0769 - accuracy: 0.9791 - val_loss: 0.1124 - val_accuracy: 0.9749\n"
          ],
          "name": "stdout"
        },
        {
          "output_type": "execute_result",
          "data": {
            "text/plain": [
              "<tensorflow.python.keras.callbacks.History at 0x7fd1a5c403c8>"
            ]
          },
          "metadata": {
            "tags": []
          },
          "execution_count": 7
        }
      ]
    },
    {
      "cell_type": "markdown",
      "metadata": {
        "id": "GUMtejHELNzA"
      },
      "source": [
        "### Model"
      ]
    },
    {
      "cell_type": "code",
      "metadata": {
        "id": "a8_6klaXFy4e",
        "colab": {
          "base_uri": "https://localhost:8080/"
        },
        "outputId": "7d0a31d3-d8da-4da5-a5ed-0b01b6848c23"
      },
      "source": [
        "# lista warstw w modelu\n",
        "model.layers"
      ],
      "execution_count": 7,
      "outputs": [
        {
          "output_type": "execute_result",
          "data": {
            "text/plain": [
              "[<Flatten name=flatten_1, built=True>,\n",
              " <Dense name=dense_2, built=True>,\n",
              " <Dropout name=dropout_1, built=True>,\n",
              " <Dense name=dense_3, built=True>]"
            ]
          },
          "metadata": {},
          "execution_count": 7
        }
      ]
    },
    {
      "cell_type": "code",
      "metadata": {
        "id": "RH5-flGeGE65",
        "colab": {
          "base_uri": "https://localhost:8080/"
        },
        "outputId": "cfd9d825-7f65-4dc4-9a5d-c93f67ed043d"
      },
      "source": [
        "# lista tensorów wejściowych do modelu\n",
        "model.inputs"
      ],
      "execution_count": 8,
      "outputs": [
        {
          "output_type": "execute_result",
          "data": {
            "text/plain": [
              "[<KerasTensor shape=(None, 28, 28), dtype=float32, sparse=False, name=keras_tensor_11>]"
            ]
          },
          "metadata": {},
          "execution_count": 8
        }
      ]
    },
    {
      "cell_type": "code",
      "metadata": {
        "id": "IQUNt0jBGOEo",
        "colab": {
          "base_uri": "https://localhost:8080/"
        },
        "outputId": "69236a96-0371-447d-e9ec-10ff3d6aa9f4"
      },
      "source": [
        "# lista tensorów wyjściowych z modelu\n",
        "model.outputs"
      ],
      "execution_count": 9,
      "outputs": [
        {
          "output_type": "execute_result",
          "data": {
            "text/plain": [
              "[<KerasTensor shape=(None, 10), dtype=float32, sparse=False, name=keras_tensor_21>]"
            ]
          },
          "metadata": {},
          "execution_count": 9
        }
      ]
    },
    {
      "cell_type": "code",
      "metadata": {
        "id": "YndooAmHGde4",
        "colab": {
          "base_uri": "https://localhost:8080/"
        },
        "outputId": "31b48f42-222a-4f81-9309-4bd97aedba5c"
      },
      "source": [
        "# słownik zwierający konfigurację modelu\n",
        "model.get_config()"
      ],
      "execution_count": 10,
      "outputs": [
        {
          "output_type": "execute_result",
          "data": {
            "text/plain": [
              "{'name': 'sequential_1',\n",
              " 'trainable': True,\n",
              " 'dtype': {'module': 'keras',\n",
              "  'class_name': 'DTypePolicy',\n",
              "  'config': {'name': 'float32'},\n",
              "  'registered_name': None},\n",
              " 'layers': [{'module': 'keras.layers',\n",
              "   'class_name': 'InputLayer',\n",
              "   'config': {'batch_shape': (None, 28, 28),\n",
              "    'dtype': 'float32',\n",
              "    'sparse': False,\n",
              "    'name': 'input_layer_1'},\n",
              "   'registered_name': None},\n",
              "  {'module': 'keras.layers',\n",
              "   'class_name': 'Flatten',\n",
              "   'config': {'name': 'flatten_1',\n",
              "    'trainable': True,\n",
              "    'dtype': {'module': 'keras',\n",
              "     'class_name': 'DTypePolicy',\n",
              "     'config': {'name': 'float32'},\n",
              "     'registered_name': None},\n",
              "    'data_format': 'channels_last'},\n",
              "   'registered_name': None,\n",
              "   'build_config': {'input_shape': (None, 28, 28)}},\n",
              "  {'module': 'keras.layers',\n",
              "   'class_name': 'Dense',\n",
              "   'config': {'name': 'dense_2',\n",
              "    'trainable': True,\n",
              "    'dtype': {'module': 'keras',\n",
              "     'class_name': 'DTypePolicy',\n",
              "     'config': {'name': 'float32'},\n",
              "     'registered_name': None},\n",
              "    'units': 128,\n",
              "    'activation': 'relu',\n",
              "    'use_bias': True,\n",
              "    'kernel_initializer': {'module': 'keras.initializers',\n",
              "     'class_name': 'GlorotUniform',\n",
              "     'config': {'seed': None},\n",
              "     'registered_name': None},\n",
              "    'bias_initializer': {'module': 'keras.initializers',\n",
              "     'class_name': 'Zeros',\n",
              "     'config': {},\n",
              "     'registered_name': None},\n",
              "    'kernel_regularizer': None,\n",
              "    'bias_regularizer': None,\n",
              "    'kernel_constraint': None,\n",
              "    'bias_constraint': None},\n",
              "   'registered_name': None,\n",
              "   'build_config': {'input_shape': (None, 784)}},\n",
              "  {'module': 'keras.layers',\n",
              "   'class_name': 'Dropout',\n",
              "   'config': {'name': 'dropout_1',\n",
              "    'trainable': True,\n",
              "    'dtype': {'module': 'keras',\n",
              "     'class_name': 'DTypePolicy',\n",
              "     'config': {'name': 'float32'},\n",
              "     'registered_name': None},\n",
              "    'rate': 0.2,\n",
              "    'seed': None,\n",
              "    'noise_shape': None},\n",
              "   'registered_name': None},\n",
              "  {'module': 'keras.layers',\n",
              "   'class_name': 'Dense',\n",
              "   'config': {'name': 'dense_3',\n",
              "    'trainable': True,\n",
              "    'dtype': {'module': 'keras',\n",
              "     'class_name': 'DTypePolicy',\n",
              "     'config': {'name': 'float32'},\n",
              "     'registered_name': None},\n",
              "    'units': 10,\n",
              "    'activation': 'softmax',\n",
              "    'use_bias': True,\n",
              "    'kernel_initializer': {'module': 'keras.initializers',\n",
              "     'class_name': 'GlorotUniform',\n",
              "     'config': {'seed': None},\n",
              "     'registered_name': None},\n",
              "    'bias_initializer': {'module': 'keras.initializers',\n",
              "     'class_name': 'Zeros',\n",
              "     'config': {},\n",
              "     'registered_name': None},\n",
              "    'kernel_regularizer': None,\n",
              "    'bias_regularizer': None,\n",
              "    'kernel_constraint': None,\n",
              "    'bias_constraint': None},\n",
              "   'registered_name': None,\n",
              "   'build_config': {'input_shape': (None, 128)}}],\n",
              " 'build_input_shape': (None, 28, 28)}"
            ]
          },
          "metadata": {},
          "execution_count": 10
        }
      ]
    },
    {
      "cell_type": "code",
      "metadata": {
        "id": "fy3UQ-YkGlK6",
        "colab": {
          "base_uri": "https://localhost:8080/"
        },
        "outputId": "23931abb-6251-4843-c021-29d6731228dc"
      },
      "source": [
        "# lista wszystkich tensorów wag\n",
        "model.get_weights()"
      ],
      "execution_count": 11,
      "outputs": [
        {
          "output_type": "execute_result",
          "data": {
            "text/plain": [
              "[array([[ 0.04421575, -0.00397002,  0.01917135, ...,  0.01619089,\n",
              "         -0.08062954,  0.07011806],\n",
              "        [-0.04364631, -0.07118782,  0.00194373, ..., -0.05372108,\n",
              "          0.04818141,  0.0047766 ],\n",
              "        [-0.031202  ,  0.03074969,  0.03344905, ...,  0.02926245,\n",
              "          0.02641105,  0.03920136],\n",
              "        ...,\n",
              "        [ 0.03334393, -0.00117946,  0.01818657, ..., -0.03776946,\n",
              "         -0.0097752 ,  0.05483044],\n",
              "        [ 0.02659904, -0.04775951, -0.01683784, ..., -0.05451445,\n",
              "          0.04521679,  0.05542573],\n",
              "        [-0.04814945,  0.08093496,  0.01366914, ..., -0.07283649,\n",
              "          0.0104146 , -0.0624629 ]], dtype=float32),\n",
              " array([0., 0., 0., 0., 0., 0., 0., 0., 0., 0., 0., 0., 0., 0., 0., 0., 0.,\n",
              "        0., 0., 0., 0., 0., 0., 0., 0., 0., 0., 0., 0., 0., 0., 0., 0., 0.,\n",
              "        0., 0., 0., 0., 0., 0., 0., 0., 0., 0., 0., 0., 0., 0., 0., 0., 0.,\n",
              "        0., 0., 0., 0., 0., 0., 0., 0., 0., 0., 0., 0., 0., 0., 0., 0., 0.,\n",
              "        0., 0., 0., 0., 0., 0., 0., 0., 0., 0., 0., 0., 0., 0., 0., 0., 0.,\n",
              "        0., 0., 0., 0., 0., 0., 0., 0., 0., 0., 0., 0., 0., 0., 0., 0., 0.,\n",
              "        0., 0., 0., 0., 0., 0., 0., 0., 0., 0., 0., 0., 0., 0., 0., 0., 0.,\n",
              "        0., 0., 0., 0., 0., 0., 0., 0., 0.], dtype=float32),\n",
              " array([[ 0.00288568,  0.19489215, -0.08974383, ...,  0.01511158,\n",
              "          0.1999468 ,  0.10709177],\n",
              "        [-0.15907253, -0.04475029, -0.18168527, ...,  0.05674081,\n",
              "         -0.05318268, -0.02006933],\n",
              "        [ 0.01693995, -0.11124536,  0.11332007, ..., -0.10661388,\n",
              "          0.17121072, -0.03973199],\n",
              "        ...,\n",
              "        [-0.0290253 ,  0.10509677,  0.17465375, ...,  0.09012498,\n",
              "         -0.09674432, -0.05796365],\n",
              "        [ 0.1766349 ,  0.0557857 , -0.00133099, ...,  0.05491193,\n",
              "          0.00466096, -0.01533325],\n",
              "        [-0.01393849,  0.02379264,  0.01551685, ..., -0.17458466,\n",
              "         -0.16795747, -0.11414685]], dtype=float32),\n",
              " array([0., 0., 0., 0., 0., 0., 0., 0., 0., 0.], dtype=float32)]"
            ]
          },
          "metadata": {},
          "execution_count": 11
        }
      ]
    },
    {
      "cell_type": "code",
      "metadata": {
        "id": "SXEvl0IIG0J8",
        "colab": {
          "base_uri": "https://localhost:8080/"
        },
        "outputId": "24e8ad2a-5cd8-4291-826c-59abe5ec9c1c"
      },
      "source": [
        "model.get_weights()[0].shape"
      ],
      "execution_count": 12,
      "outputs": [
        {
          "output_type": "execute_result",
          "data": {
            "text/plain": [
              "(784, 128)"
            ]
          },
          "metadata": {},
          "execution_count": 12
        }
      ]
    },
    {
      "cell_type": "code",
      "metadata": {
        "id": "rA7tCjJ9HBna",
        "colab": {
          "base_uri": "https://localhost:8080/"
        },
        "outputId": "bd0a0328-0b80-4d3b-9405-88244f721bba"
      },
      "source": [
        "model.get_weights()[1].shape"
      ],
      "execution_count": 13,
      "outputs": [
        {
          "output_type": "execute_result",
          "data": {
            "text/plain": [
              "(128,)"
            ]
          },
          "metadata": {},
          "execution_count": 13
        }
      ]
    },
    {
      "cell_type": "code",
      "metadata": {
        "id": "T0J_y0KpHD1Z",
        "colab": {
          "base_uri": "https://localhost:8080/"
        },
        "outputId": "018de25c-5c60-4723-f01b-c09dd7e4a10c"
      },
      "source": [
        "model.get_weights()[2].shape"
      ],
      "execution_count": 14,
      "outputs": [
        {
          "output_type": "execute_result",
          "data": {
            "text/plain": [
              "(128, 10)"
            ]
          },
          "metadata": {},
          "execution_count": 14
        }
      ]
    },
    {
      "cell_type": "code",
      "metadata": {
        "id": "_WfJ59IYHFdE",
        "colab": {
          "base_uri": "https://localhost:8080/"
        },
        "outputId": "77216b5b-e699-4c3a-c19b-8e0f57b8bc61"
      },
      "source": [
        "model.get_weights()[3].shape"
      ],
      "execution_count": 15,
      "outputs": [
        {
          "output_type": "execute_result",
          "data": {
            "text/plain": [
              "(10,)"
            ]
          },
          "metadata": {},
          "execution_count": 15
        }
      ]
    },
    {
      "cell_type": "markdown",
      "metadata": {
        "id": "3ATjZrQXIKvx"
      },
      "source": [
        "### *to_json()*"
      ]
    },
    {
      "cell_type": "code",
      "metadata": {
        "id": "J0WKD-HKHHtM",
        "colab": {
          "base_uri": "https://localhost:8080/"
        },
        "outputId": "73e013dc-1722-466e-8dbe-daeeb7fff148"
      },
      "source": [
        "model_json = model.to_json()\n",
        "\n",
        "import json\n",
        "parsed = json.loads(model_json)\n",
        "print(json.dumps(parsed, indent=4))"
      ],
      "execution_count": 16,
      "outputs": [
        {
          "output_type": "stream",
          "name": "stdout",
          "text": [
            "{\n",
            "    \"module\": \"keras\",\n",
            "    \"class_name\": \"Sequential\",\n",
            "    \"config\": {\n",
            "        \"name\": \"sequential_1\",\n",
            "        \"trainable\": true,\n",
            "        \"dtype\": {\n",
            "            \"module\": \"keras\",\n",
            "            \"class_name\": \"DTypePolicy\",\n",
            "            \"config\": {\n",
            "                \"name\": \"float32\"\n",
            "            },\n",
            "            \"registered_name\": null\n",
            "        },\n",
            "        \"layers\": [\n",
            "            {\n",
            "                \"module\": \"keras.layers\",\n",
            "                \"class_name\": \"InputLayer\",\n",
            "                \"config\": {\n",
            "                    \"batch_shape\": [\n",
            "                        null,\n",
            "                        28,\n",
            "                        28\n",
            "                    ],\n",
            "                    \"dtype\": \"float32\",\n",
            "                    \"sparse\": false,\n",
            "                    \"name\": \"input_layer_1\"\n",
            "                },\n",
            "                \"registered_name\": null\n",
            "            },\n",
            "            {\n",
            "                \"module\": \"keras.layers\",\n",
            "                \"class_name\": \"Flatten\",\n",
            "                \"config\": {\n",
            "                    \"name\": \"flatten_1\",\n",
            "                    \"trainable\": true,\n",
            "                    \"dtype\": {\n",
            "                        \"module\": \"keras\",\n",
            "                        \"class_name\": \"DTypePolicy\",\n",
            "                        \"config\": {\n",
            "                            \"name\": \"float32\"\n",
            "                        },\n",
            "                        \"registered_name\": null\n",
            "                    },\n",
            "                    \"data_format\": \"channels_last\"\n",
            "                },\n",
            "                \"registered_name\": null,\n",
            "                \"build_config\": {\n",
            "                    \"input_shape\": [\n",
            "                        null,\n",
            "                        28,\n",
            "                        28\n",
            "                    ]\n",
            "                }\n",
            "            },\n",
            "            {\n",
            "                \"module\": \"keras.layers\",\n",
            "                \"class_name\": \"Dense\",\n",
            "                \"config\": {\n",
            "                    \"name\": \"dense_2\",\n",
            "                    \"trainable\": true,\n",
            "                    \"dtype\": {\n",
            "                        \"module\": \"keras\",\n",
            "                        \"class_name\": \"DTypePolicy\",\n",
            "                        \"config\": {\n",
            "                            \"name\": \"float32\"\n",
            "                        },\n",
            "                        \"registered_name\": null\n",
            "                    },\n",
            "                    \"units\": 128,\n",
            "                    \"activation\": \"relu\",\n",
            "                    \"use_bias\": true,\n",
            "                    \"kernel_initializer\": {\n",
            "                        \"module\": \"keras.initializers\",\n",
            "                        \"class_name\": \"GlorotUniform\",\n",
            "                        \"config\": {\n",
            "                            \"seed\": null\n",
            "                        },\n",
            "                        \"registered_name\": null\n",
            "                    },\n",
            "                    \"bias_initializer\": {\n",
            "                        \"module\": \"keras.initializers\",\n",
            "                        \"class_name\": \"Zeros\",\n",
            "                        \"config\": {},\n",
            "                        \"registered_name\": null\n",
            "                    },\n",
            "                    \"kernel_regularizer\": null,\n",
            "                    \"bias_regularizer\": null,\n",
            "                    \"kernel_constraint\": null,\n",
            "                    \"bias_constraint\": null\n",
            "                },\n",
            "                \"registered_name\": null,\n",
            "                \"build_config\": {\n",
            "                    \"input_shape\": [\n",
            "                        null,\n",
            "                        784\n",
            "                    ]\n",
            "                }\n",
            "            },\n",
            "            {\n",
            "                \"module\": \"keras.layers\",\n",
            "                \"class_name\": \"Dropout\",\n",
            "                \"config\": {\n",
            "                    \"name\": \"dropout_1\",\n",
            "                    \"trainable\": true,\n",
            "                    \"dtype\": {\n",
            "                        \"module\": \"keras\",\n",
            "                        \"class_name\": \"DTypePolicy\",\n",
            "                        \"config\": {\n",
            "                            \"name\": \"float32\"\n",
            "                        },\n",
            "                        \"registered_name\": null\n",
            "                    },\n",
            "                    \"rate\": 0.2,\n",
            "                    \"seed\": null,\n",
            "                    \"noise_shape\": null\n",
            "                },\n",
            "                \"registered_name\": null\n",
            "            },\n",
            "            {\n",
            "                \"module\": \"keras.layers\",\n",
            "                \"class_name\": \"Dense\",\n",
            "                \"config\": {\n",
            "                    \"name\": \"dense_3\",\n",
            "                    \"trainable\": true,\n",
            "                    \"dtype\": {\n",
            "                        \"module\": \"keras\",\n",
            "                        \"class_name\": \"DTypePolicy\",\n",
            "                        \"config\": {\n",
            "                            \"name\": \"float32\"\n",
            "                        },\n",
            "                        \"registered_name\": null\n",
            "                    },\n",
            "                    \"units\": 10,\n",
            "                    \"activation\": \"softmax\",\n",
            "                    \"use_bias\": true,\n",
            "                    \"kernel_initializer\": {\n",
            "                        \"module\": \"keras.initializers\",\n",
            "                        \"class_name\": \"GlorotUniform\",\n",
            "                        \"config\": {\n",
            "                            \"seed\": null\n",
            "                        },\n",
            "                        \"registered_name\": null\n",
            "                    },\n",
            "                    \"bias_initializer\": {\n",
            "                        \"module\": \"keras.initializers\",\n",
            "                        \"class_name\": \"Zeros\",\n",
            "                        \"config\": {},\n",
            "                        \"registered_name\": null\n",
            "                    },\n",
            "                    \"kernel_regularizer\": null,\n",
            "                    \"bias_regularizer\": null,\n",
            "                    \"kernel_constraint\": null,\n",
            "                    \"bias_constraint\": null\n",
            "                },\n",
            "                \"registered_name\": null,\n",
            "                \"build_config\": {\n",
            "                    \"input_shape\": [\n",
            "                        null,\n",
            "                        128\n",
            "                    ]\n",
            "                }\n",
            "            }\n",
            "        ],\n",
            "        \"build_input_shape\": [\n",
            "            null,\n",
            "            28,\n",
            "            28\n",
            "        ]\n",
            "    },\n",
            "    \"registered_name\": null,\n",
            "    \"build_config\": {\n",
            "        \"input_shape\": [\n",
            "            null,\n",
            "            28,\n",
            "            28\n",
            "        ]\n",
            "    },\n",
            "    \"compile_config\": {\n",
            "        \"optimizer\": {\n",
            "            \"module\": \"keras.optimizers\",\n",
            "            \"class_name\": \"Adam\",\n",
            "            \"config\": {\n",
            "                \"name\": \"adam\",\n",
            "                \"learning_rate\": 0.0010000000474974513,\n",
            "                \"weight_decay\": null,\n",
            "                \"clipnorm\": null,\n",
            "                \"global_clipnorm\": null,\n",
            "                \"clipvalue\": null,\n",
            "                \"use_ema\": false,\n",
            "                \"ema_momentum\": 0.99,\n",
            "                \"ema_overwrite_frequency\": null,\n",
            "                \"loss_scale_factor\": null,\n",
            "                \"gradient_accumulation_steps\": null,\n",
            "                \"beta_1\": 0.9,\n",
            "                \"beta_2\": 0.999,\n",
            "                \"epsilon\": 1e-07,\n",
            "                \"amsgrad\": false\n",
            "            },\n",
            "            \"registered_name\": null\n",
            "        },\n",
            "        \"loss\": \"sparse_categorical_crossentropy\",\n",
            "        \"loss_weights\": null,\n",
            "        \"metrics\": [\n",
            "            \"accuracy\"\n",
            "        ],\n",
            "        \"weighted_metrics\": null,\n",
            "        \"run_eagerly\": false,\n",
            "        \"steps_per_execution\": 1,\n",
            "        \"jit_compile\": false\n",
            "    }\n",
            "}\n"
          ]
        }
      ]
    },
    {
      "cell_type": "code",
      "metadata": {
        "id": "tSNM-VzWHl37",
        "colab": {
          "base_uri": "https://localhost:8080/",
          "height": 281
        },
        "outputId": "0cb50da3-4255-4264-f701-bb2496f3e0d9"
      },
      "source": [
        "from tensorflow.keras.models import model_from_json\n",
        "\n",
        "model2 = model_from_json(model_json)\n",
        "model2.summary()"
      ],
      "execution_count": 17,
      "outputs": [
        {
          "output_type": "display_data",
          "data": {
            "text/plain": [
              "\u001b[1mModel: \"sequential_1\"\u001b[0m\n"
            ],
            "text/html": [
              "<pre style=\"white-space:pre;overflow-x:auto;line-height:normal;font-family:Menlo,'DejaVu Sans Mono',consolas,'Courier New',monospace\"><span style=\"font-weight: bold\">Model: \"sequential_1\"</span>\n",
              "</pre>\n"
            ]
          },
          "metadata": {}
        },
        {
          "output_type": "display_data",
          "data": {
            "text/plain": [
              "┏━━━━━━━━━━━━━━━━━━━━━━━━━━━━━━━━━━━━━━┳━━━━━━━━━━━━━━━━━━━━━━━━━━━━━┳━━━━━━━━━━━━━━━━━┓\n",
              "┃\u001b[1m \u001b[0m\u001b[1mLayer (type)                        \u001b[0m\u001b[1m \u001b[0m┃\u001b[1m \u001b[0m\u001b[1mOutput Shape               \u001b[0m\u001b[1m \u001b[0m┃\u001b[1m \u001b[0m\u001b[1m        Param #\u001b[0m\u001b[1m \u001b[0m┃\n",
              "┡━━━━━━━━━━━━━━━━━━━━━━━━━━━━━━━━━━━━━━╇━━━━━━━━━━━━━━━━━━━━━━━━━━━━━╇━━━━━━━━━━━━━━━━━┩\n",
              "│ flatten_1 (\u001b[38;5;33mFlatten\u001b[0m)                  │ (\u001b[38;5;45mNone\u001b[0m, \u001b[38;5;34m784\u001b[0m)                 │               \u001b[38;5;34m0\u001b[0m │\n",
              "├──────────────────────────────────────┼─────────────────────────────┼─────────────────┤\n",
              "│ dense_2 (\u001b[38;5;33mDense\u001b[0m)                      │ (\u001b[38;5;45mNone\u001b[0m, \u001b[38;5;34m128\u001b[0m)                 │         \u001b[38;5;34m100,480\u001b[0m │\n",
              "├──────────────────────────────────────┼─────────────────────────────┼─────────────────┤\n",
              "│ dropout_1 (\u001b[38;5;33mDropout\u001b[0m)                  │ (\u001b[38;5;45mNone\u001b[0m, \u001b[38;5;34m128\u001b[0m)                 │               \u001b[38;5;34m0\u001b[0m │\n",
              "├──────────────────────────────────────┼─────────────────────────────┼─────────────────┤\n",
              "│ dense_3 (\u001b[38;5;33mDense\u001b[0m)                      │ (\u001b[38;5;45mNone\u001b[0m, \u001b[38;5;34m10\u001b[0m)                  │           \u001b[38;5;34m1,290\u001b[0m │\n",
              "└──────────────────────────────────────┴─────────────────────────────┴─────────────────┘\n"
            ],
            "text/html": [
              "<pre style=\"white-space:pre;overflow-x:auto;line-height:normal;font-family:Menlo,'DejaVu Sans Mono',consolas,'Courier New',monospace\">┏━━━━━━━━━━━━━━━━━━━━━━━━━━━━━━━━━━━━━━┳━━━━━━━━━━━━━━━━━━━━━━━━━━━━━┳━━━━━━━━━━━━━━━━━┓\n",
              "┃<span style=\"font-weight: bold\"> Layer (type)                         </span>┃<span style=\"font-weight: bold\"> Output Shape                </span>┃<span style=\"font-weight: bold\">         Param # </span>┃\n",
              "┡━━━━━━━━━━━━━━━━━━━━━━━━━━━━━━━━━━━━━━╇━━━━━━━━━━━━━━━━━━━━━━━━━━━━━╇━━━━━━━━━━━━━━━━━┩\n",
              "│ flatten_1 (<span style=\"color: #0087ff; text-decoration-color: #0087ff\">Flatten</span>)                  │ (<span style=\"color: #00d7ff; text-decoration-color: #00d7ff\">None</span>, <span style=\"color: #00af00; text-decoration-color: #00af00\">784</span>)                 │               <span style=\"color: #00af00; text-decoration-color: #00af00\">0</span> │\n",
              "├──────────────────────────────────────┼─────────────────────────────┼─────────────────┤\n",
              "│ dense_2 (<span style=\"color: #0087ff; text-decoration-color: #0087ff\">Dense</span>)                      │ (<span style=\"color: #00d7ff; text-decoration-color: #00d7ff\">None</span>, <span style=\"color: #00af00; text-decoration-color: #00af00\">128</span>)                 │         <span style=\"color: #00af00; text-decoration-color: #00af00\">100,480</span> │\n",
              "├──────────────────────────────────────┼─────────────────────────────┼─────────────────┤\n",
              "│ dropout_1 (<span style=\"color: #0087ff; text-decoration-color: #0087ff\">Dropout</span>)                  │ (<span style=\"color: #00d7ff; text-decoration-color: #00d7ff\">None</span>, <span style=\"color: #00af00; text-decoration-color: #00af00\">128</span>)                 │               <span style=\"color: #00af00; text-decoration-color: #00af00\">0</span> │\n",
              "├──────────────────────────────────────┼─────────────────────────────┼─────────────────┤\n",
              "│ dense_3 (<span style=\"color: #0087ff; text-decoration-color: #0087ff\">Dense</span>)                      │ (<span style=\"color: #00d7ff; text-decoration-color: #00d7ff\">None</span>, <span style=\"color: #00af00; text-decoration-color: #00af00\">10</span>)                  │           <span style=\"color: #00af00; text-decoration-color: #00af00\">1,290</span> │\n",
              "└──────────────────────────────────────┴─────────────────────────────┴─────────────────┘\n",
              "</pre>\n"
            ]
          },
          "metadata": {}
        },
        {
          "output_type": "display_data",
          "data": {
            "text/plain": [
              "\u001b[1m Total params: \u001b[0m\u001b[38;5;34m305,312\u001b[0m (1.16 MB)\n"
            ],
            "text/html": [
              "<pre style=\"white-space:pre;overflow-x:auto;line-height:normal;font-family:Menlo,'DejaVu Sans Mono',consolas,'Courier New',monospace\"><span style=\"font-weight: bold\"> Total params: </span><span style=\"color: #00af00; text-decoration-color: #00af00\">305,312</span> (1.16 MB)\n",
              "</pre>\n"
            ]
          },
          "metadata": {}
        },
        {
          "output_type": "display_data",
          "data": {
            "text/plain": [
              "\u001b[1m Trainable params: \u001b[0m\u001b[38;5;34m101,770\u001b[0m (397.54 KB)\n"
            ],
            "text/html": [
              "<pre style=\"white-space:pre;overflow-x:auto;line-height:normal;font-family:Menlo,'DejaVu Sans Mono',consolas,'Courier New',monospace\"><span style=\"font-weight: bold\"> Trainable params: </span><span style=\"color: #00af00; text-decoration-color: #00af00\">101,770</span> (397.54 KB)\n",
              "</pre>\n"
            ]
          },
          "metadata": {}
        },
        {
          "output_type": "display_data",
          "data": {
            "text/plain": [
              "\u001b[1m Non-trainable params: \u001b[0m\u001b[38;5;34m0\u001b[0m (0.00 B)\n"
            ],
            "text/html": [
              "<pre style=\"white-space:pre;overflow-x:auto;line-height:normal;font-family:Menlo,'DejaVu Sans Mono',consolas,'Courier New',monospace\"><span style=\"font-weight: bold\"> Non-trainable params: </span><span style=\"color: #00af00; text-decoration-color: #00af00\">0</span> (0.00 B)\n",
              "</pre>\n"
            ]
          },
          "metadata": {}
        },
        {
          "output_type": "display_data",
          "data": {
            "text/plain": [
              "\u001b[1m Optimizer params: \u001b[0m\u001b[38;5;34m203,542\u001b[0m (795.09 KB)\n"
            ],
            "text/html": [
              "<pre style=\"white-space:pre;overflow-x:auto;line-height:normal;font-family:Menlo,'DejaVu Sans Mono',consolas,'Courier New',monospace\"><span style=\"font-weight: bold\"> Optimizer params: </span><span style=\"color: #00af00; text-decoration-color: #00af00\">203,542</span> (795.09 KB)\n",
              "</pre>\n"
            ]
          },
          "metadata": {}
        }
      ]
    },
    {
      "cell_type": "markdown",
      "metadata": {
        "id": "lfP7uGlIIlQ1"
      },
      "source": [
        "### *to_yaml()*"
      ]
    },
    {
      "cell_type": "code",
      "metadata": {
        "id": "tgbTFbJvIHMR",
        "colab": {
          "base_uri": "https://localhost:8080/",
          "height": 162
        },
        "outputId": "d5ae9c97-0a5d-4cfe-939d-6e51f1997cbe"
      },
      "source": [
        "model_yaml = model.to_yaml()\n",
        "print(model_yaml)"
      ],
      "execution_count": 19,
      "outputs": [
        {
          "output_type": "error",
          "ename": "AttributeError",
          "evalue": "'Sequential' object has no attribute 'to_yaml'",
          "traceback": [
            "\u001b[0;31m---------------------------------------------------------------------------\u001b[0m",
            "\u001b[0;31mAttributeError\u001b[0m                            Traceback (most recent call last)",
            "\u001b[0;32m<ipython-input-19-937afef17c5b>\u001b[0m in \u001b[0;36m<cell line: 0>\u001b[0;34m()\u001b[0m\n\u001b[0;32m----> 1\u001b[0;31m \u001b[0mmodel_yaml\u001b[0m \u001b[0;34m=\u001b[0m \u001b[0mmodel\u001b[0m\u001b[0;34m.\u001b[0m\u001b[0mto_yaml\u001b[0m\u001b[0;34m(\u001b[0m\u001b[0;34m)\u001b[0m\u001b[0;34m\u001b[0m\u001b[0;34m\u001b[0m\u001b[0m\n\u001b[0m\u001b[1;32m      2\u001b[0m \u001b[0mprint\u001b[0m\u001b[0;34m(\u001b[0m\u001b[0mmodel_yaml\u001b[0m\u001b[0;34m)\u001b[0m\u001b[0;34m\u001b[0m\u001b[0;34m\u001b[0m\u001b[0m\n",
            "\u001b[0;31mAttributeError\u001b[0m: 'Sequential' object has no attribute 'to_yaml'"
          ]
        }
      ]
    },
    {
      "cell_type": "code",
      "metadata": {
        "id": "rG2Ax0YhISvw",
        "colab": {
          "base_uri": "https://localhost:8080/",
          "height": 375
        },
        "outputId": "31b539f6-b957-4b2d-cf91-00af407c276a"
      },
      "source": [
        "from tensorflow.keras.models import model_from_yaml\n",
        "\n",
        "model3 = model_from_yaml(model_yaml)\n",
        "model3.summary()"
      ],
      "execution_count": 20,
      "outputs": [
        {
          "output_type": "error",
          "ename": "ImportError",
          "evalue": "cannot import name 'model_from_yaml' from 'tensorflow.keras.models' (/usr/local/lib/python3.11/dist-packages/keras/_tf_keras/keras/models/__init__.py)",
          "traceback": [
            "\u001b[0;31m---------------------------------------------------------------------------\u001b[0m",
            "\u001b[0;31mImportError\u001b[0m                               Traceback (most recent call last)",
            "\u001b[0;32m<ipython-input-20-2a4f65eee037>\u001b[0m in \u001b[0;36m<cell line: 0>\u001b[0;34m()\u001b[0m\n\u001b[0;32m----> 1\u001b[0;31m \u001b[0;32mfrom\u001b[0m \u001b[0mtensorflow\u001b[0m\u001b[0;34m.\u001b[0m\u001b[0mkeras\u001b[0m\u001b[0;34m.\u001b[0m\u001b[0mmodels\u001b[0m \u001b[0;32mimport\u001b[0m \u001b[0mmodel_from_yaml\u001b[0m\u001b[0;34m\u001b[0m\u001b[0;34m\u001b[0m\u001b[0m\n\u001b[0m\u001b[1;32m      2\u001b[0m \u001b[0;34m\u001b[0m\u001b[0m\n\u001b[1;32m      3\u001b[0m \u001b[0mmodel3\u001b[0m \u001b[0;34m=\u001b[0m \u001b[0mmodel_from_yaml\u001b[0m\u001b[0;34m(\u001b[0m\u001b[0mmodel_yaml\u001b[0m\u001b[0;34m)\u001b[0m\u001b[0;34m\u001b[0m\u001b[0;34m\u001b[0m\u001b[0m\n\u001b[1;32m      4\u001b[0m \u001b[0mmodel3\u001b[0m\u001b[0;34m.\u001b[0m\u001b[0msummary\u001b[0m\u001b[0;34m(\u001b[0m\u001b[0;34m)\u001b[0m\u001b[0;34m\u001b[0m\u001b[0;34m\u001b[0m\u001b[0m\n",
            "\u001b[0;31mImportError\u001b[0m: cannot import name 'model_from_yaml' from 'tensorflow.keras.models' (/usr/local/lib/python3.11/dist-packages/keras/_tf_keras/keras/models/__init__.py)",
            "",
            "\u001b[0;31m---------------------------------------------------------------------------\u001b[0;32m\nNOTE: If your import is failing due to a missing package, you can\nmanually install dependencies using either !pip or !apt.\n\nTo view examples of installing some common dependencies, click the\n\"Open Examples\" button below.\n\u001b[0;31m---------------------------------------------------------------------------\u001b[0m\n"
          ],
          "errorDetails": {
            "actions": [
              {
                "action": "open_url",
                "actionText": "Open Examples",
                "url": "/notebooks/snippets/importing_libraries.ipynb"
              }
            ]
          }
        }
      ]
    },
    {
      "cell_type": "markdown",
      "metadata": {
        "id": "euHeJdPILRFf"
      },
      "source": [
        "### Warstwy"
      ]
    },
    {
      "cell_type": "code",
      "metadata": {
        "id": "zldniNPzIjhf",
        "colab": {
          "base_uri": "https://localhost:8080/"
        },
        "outputId": "9d7b5d57-3761-4673-d9bf-3b6d6138ee99"
      },
      "source": [
        "dense_layer = model.layers[1]\n",
        "dense_layer"
      ],
      "execution_count": 21,
      "outputs": [
        {
          "output_type": "execute_result",
          "data": {
            "text/plain": [
              "<Dense name=dense_2, built=True>"
            ]
          },
          "metadata": {},
          "execution_count": 21
        }
      ]
    },
    {
      "cell_type": "code",
      "metadata": {
        "id": "li1Mrwh9LXsd",
        "colab": {
          "base_uri": "https://localhost:8080/"
        },
        "outputId": "bec52ffa-1308-40bb-c63f-16a6477cef10"
      },
      "source": [
        "dense_layer.input"
      ],
      "execution_count": 22,
      "outputs": [
        {
          "output_type": "execute_result",
          "data": {
            "text/plain": [
              "<KerasTensor shape=(None, 784), dtype=float32, sparse=False, name=keras_tensor_13>"
            ]
          },
          "metadata": {},
          "execution_count": 22
        }
      ]
    },
    {
      "cell_type": "code",
      "metadata": {
        "id": "KKpD9adNLoeM",
        "colab": {
          "base_uri": "https://localhost:8080/",
          "height": 144
        },
        "outputId": "e7205334-9758-4da3-b0bb-7088d514f9c7"
      },
      "source": [
        "dense_layer.input_shape"
      ],
      "execution_count": 23,
      "outputs": [
        {
          "output_type": "error",
          "ename": "AttributeError",
          "evalue": "'Dense' object has no attribute 'input_shape'",
          "traceback": [
            "\u001b[0;31m---------------------------------------------------------------------------\u001b[0m",
            "\u001b[0;31mAttributeError\u001b[0m                            Traceback (most recent call last)",
            "\u001b[0;32m<ipython-input-23-e1a0f0c701f5>\u001b[0m in \u001b[0;36m<cell line: 0>\u001b[0;34m()\u001b[0m\n\u001b[0;32m----> 1\u001b[0;31m \u001b[0mdense_layer\u001b[0m\u001b[0;34m.\u001b[0m\u001b[0minput_shape\u001b[0m\u001b[0;34m\u001b[0m\u001b[0;34m\u001b[0m\u001b[0m\n\u001b[0m",
            "\u001b[0;31mAttributeError\u001b[0m: 'Dense' object has no attribute 'input_shape'"
          ]
        }
      ]
    },
    {
      "cell_type": "code",
      "metadata": {
        "id": "qGUY5sE2LmJO",
        "colab": {
          "base_uri": "https://localhost:8080/"
        },
        "outputId": "1658ed42-552a-4601-fdb1-d0c1035ea7a2"
      },
      "source": [
        "dense_layer.output"
      ],
      "execution_count": 24,
      "outputs": [
        {
          "output_type": "execute_result",
          "data": {
            "text/plain": [
              "<KerasTensor shape=(None, 128), dtype=float32, sparse=False, name=keras_tensor_14>"
            ]
          },
          "metadata": {},
          "execution_count": 24
        }
      ]
    },
    {
      "cell_type": "code",
      "metadata": {
        "id": "v2G4HnU_LtUU",
        "colab": {
          "base_uri": "https://localhost:8080/",
          "height": 144
        },
        "outputId": "0041985c-77f3-4d07-9f08-d24eb8637769"
      },
      "source": [
        "dense_layer.output_shape"
      ],
      "execution_count": 25,
      "outputs": [
        {
          "output_type": "error",
          "ename": "AttributeError",
          "evalue": "'Dense' object has no attribute 'output_shape'",
          "traceback": [
            "\u001b[0;31m---------------------------------------------------------------------------\u001b[0m",
            "\u001b[0;31mAttributeError\u001b[0m                            Traceback (most recent call last)",
            "\u001b[0;32m<ipython-input-25-e3f66d0b7986>\u001b[0m in \u001b[0;36m<cell line: 0>\u001b[0;34m()\u001b[0m\n\u001b[0;32m----> 1\u001b[0;31m \u001b[0mdense_layer\u001b[0m\u001b[0;34m.\u001b[0m\u001b[0moutput_shape\u001b[0m\u001b[0;34m\u001b[0m\u001b[0;34m\u001b[0m\u001b[0m\n\u001b[0m",
            "\u001b[0;31mAttributeError\u001b[0m: 'Dense' object has no attribute 'output_shape'"
          ]
        }
      ]
    },
    {
      "cell_type": "code",
      "metadata": {
        "id": "C8i_OrOPXunH",
        "colab": {
          "base_uri": "https://localhost:8080/"
        },
        "outputId": "2529d5a2-1b4f-4c4d-d353-0bb80492bd4f"
      },
      "source": [
        "dense_layer.trainable"
      ],
      "execution_count": 26,
      "outputs": [
        {
          "output_type": "execute_result",
          "data": {
            "text/plain": [
              "True"
            ]
          },
          "metadata": {},
          "execution_count": 26
        }
      ]
    },
    {
      "cell_type": "markdown",
      "metadata": {
        "id": "JvlEFDUxM3k1"
      },
      "source": [
        "### Podstawowe rodzaje warstw\n",
        "* **Dense** - warstwa gęsto połączona, wynik operacji $output = activation(dot(input, weights) + bias)$\n",
        "* **Activation** - stosuje funkcję aktywacji\n",
        "* **Dropout** - porzuca wskazaną część neuronów w warstwie\n",
        "* **Flatten** - wypłaszcza dane wejściowe\n",
        "* **Input** - warstwa wejściowa, parametr *shape* określa rozmiar danych wejściowych"
      ]
    },
    {
      "cell_type": "code",
      "metadata": {
        "id": "Bwlg0MIBMERe",
        "colab": {
          "base_uri": "https://localhost:8080/"
        },
        "outputId": "24a13ebd-19c0-4834-acc1-c8fe53697a5f"
      },
      "source": [
        "from tensorflow.keras.layers import Dense\n",
        "\n",
        "dense = Dense(units=1, activation='relu')\n",
        "dense"
      ],
      "execution_count": 27,
      "outputs": [
        {
          "output_type": "execute_result",
          "data": {
            "text/plain": [
              "<Dense name=dense_4, built=False>"
            ]
          },
          "metadata": {},
          "execution_count": 27
        }
      ]
    },
    {
      "cell_type": "code",
      "metadata": {
        "id": "cY2cgjfzNB2O",
        "colab": {
          "base_uri": "https://localhost:8080/"
        },
        "outputId": "878b5e5c-bd23-491e-e0d1-cff09843bde6"
      },
      "source": [
        "from tensorflow.keras.layers import Activation\n",
        "\n",
        "activation = Activation(activation='relu')\n",
        "activation"
      ],
      "execution_count": 28,
      "outputs": [
        {
          "output_type": "execute_result",
          "data": {
            "text/plain": [
              "<Activation name=activation, built=True>"
            ]
          },
          "metadata": {},
          "execution_count": 28
        }
      ]
    },
    {
      "cell_type": "code",
      "metadata": {
        "id": "rpKRRtpOOQ6R",
        "colab": {
          "base_uri": "https://localhost:8080/"
        },
        "outputId": "35b5b795-2862-4b84-f41d-c96011db8874"
      },
      "source": [
        "from tensorflow.keras.layers import Dropout\n",
        "\n",
        "dropout = Dropout(rate=0.3)\n",
        "dropout"
      ],
      "execution_count": 29,
      "outputs": [
        {
          "output_type": "execute_result",
          "data": {
            "text/plain": [
              "<Dropout name=dropout_2, built=True>"
            ]
          },
          "metadata": {},
          "execution_count": 29
        }
      ]
    },
    {
      "cell_type": "code",
      "metadata": {
        "id": "ddfbiZbWOkgx",
        "colab": {
          "base_uri": "https://localhost:8080/"
        },
        "outputId": "6d6be239-4ba7-4dc0-e151-69366f285b97"
      },
      "source": [
        "from tensorflow.keras.layers import Flatten\n",
        "\n",
        "flatten = Flatten()\n",
        "flatten"
      ],
      "execution_count": 30,
      "outputs": [
        {
          "output_type": "execute_result",
          "data": {
            "text/plain": [
              "<Flatten name=flatten_2, built=False>"
            ]
          },
          "metadata": {},
          "execution_count": 30
        }
      ]
    },
    {
      "cell_type": "code",
      "metadata": {
        "id": "OydKXqofO-Kb",
        "colab": {
          "base_uri": "https://localhost:8080/"
        },
        "outputId": "336d0896-c8ac-4783-a3aa-be7b6b781813"
      },
      "source": [
        "from tensorflow.keras.layers import Input\n",
        "\n",
        "input = Input(shape=(150,))\n",
        "input"
      ],
      "execution_count": 31,
      "outputs": [
        {
          "output_type": "execute_result",
          "data": {
            "text/plain": [
              "<KerasTensor shape=(None, 150), dtype=float32, sparse=False, name=keras_tensor_32>"
            ]
          },
          "metadata": {},
          "execution_count": 31
        }
      ]
    },
    {
      "cell_type": "markdown",
      "metadata": {
        "id": "bcoSi5H2QACR"
      },
      "source": [
        "### Warstwy konwolucyjne + max pooling\n",
        "* **Conv1D** - 1D warstwa konwolucyjna\n",
        "* **Conv2D** - 2D warstwa konwolucyjna\n",
        "* **MaxPooling1D** - operacja max pooling 1D\n",
        "* **MaxPooling2D** - operacja max pooling 2D"
      ]
    },
    {
      "cell_type": "code",
      "metadata": {
        "id": "1aVhaU5OQDcx",
        "colab": {
          "base_uri": "https://localhost:8080/"
        },
        "outputId": "2b178475-3360-40a1-a54b-5ad9a7e0fc14"
      },
      "source": [
        "from tensorflow.keras.layers import Conv1D\n",
        "\n",
        "# filters - liczba filtrów zastosowana na etapie konwolucji\n",
        "# kernel_size - długość okna konwolucji\n",
        "conv1d = Conv1D(filters=64, kernel_size=3)\n",
        "conv1d"
      ],
      "execution_count": 32,
      "outputs": [
        {
          "output_type": "execute_result",
          "data": {
            "text/plain": [
              "<Conv1D name=conv1d, built=False>"
            ]
          },
          "metadata": {},
          "execution_count": 32
        }
      ]
    },
    {
      "cell_type": "code",
      "metadata": {
        "id": "S19G2l0mQk_S",
        "colab": {
          "base_uri": "https://localhost:8080/"
        },
        "outputId": "32ac7a05-395b-4128-e410-4842af85acde"
      },
      "source": [
        "from tensorflow.keras.layers import Conv2D\n",
        "\n",
        "# filters - liczba filtrów zastosowana na etapie konwolucji\n",
        "# kernel_size - wielkość okna konwolucji\n",
        "conv2d = Conv2D(filters=64, kernel_size=(3, 3))\n",
        "conv2d"
      ],
      "execution_count": 33,
      "outputs": [
        {
          "output_type": "execute_result",
          "data": {
            "text/plain": [
              "<Conv2D name=conv2d, built=False>"
            ]
          },
          "metadata": {},
          "execution_count": 33
        }
      ]
    },
    {
      "cell_type": "code",
      "metadata": {
        "id": "Om1DncmZRH4O",
        "colab": {
          "base_uri": "https://localhost:8080/"
        },
        "outputId": "5228880d-2881-4b59-ec6d-c6c7f2ff3ed5"
      },
      "source": [
        "from tensorflow.keras.layers import MaxPooling1D\n",
        "\n",
        "# pool_size - rozmiar okna max pooling\n",
        "maxpooling1d = MaxPooling1D(pool_size=2)\n",
        "maxpooling1d"
      ],
      "execution_count": 34,
      "outputs": [
        {
          "output_type": "execute_result",
          "data": {
            "text/plain": [
              "<MaxPooling1D name=max_pooling1d, built=True>"
            ]
          },
          "metadata": {},
          "execution_count": 34
        }
      ]
    },
    {
      "cell_type": "code",
      "metadata": {
        "id": "VIRLPBZZRgd7",
        "colab": {
          "base_uri": "https://localhost:8080/"
        },
        "outputId": "a569e5fb-8eaa-4b39-fa0e-4f37951c0db2"
      },
      "source": [
        "from tensorflow.keras.layers import MaxPooling2D\n",
        "\n",
        "# pool_size - rozmiar okna max pooling\n",
        "maxpooling2d = MaxPooling2D(pool_size=(2, 2))\n",
        "maxpooling2d"
      ],
      "execution_count": 35,
      "outputs": [
        {
          "output_type": "execute_result",
          "data": {
            "text/plain": [
              "<MaxPooling2D name=max_pooling2d, built=True>"
            ]
          },
          "metadata": {},
          "execution_count": 35
        }
      ]
    },
    {
      "cell_type": "markdown",
      "metadata": {
        "id": "sUmlAwyTTwrT"
      },
      "source": [
        "### Warstwy rekurencyjne\n",
        "* **RNN** - bazowa warstwa rekurencyjna\n",
        "* **SimpleRNN** - w pełni połączona warstwa rekurencyjna\n",
        "* **LSTM** - Long-Short-Term Memory"
      ]
    },
    {
      "cell_type": "code",
      "metadata": {
        "id": "WIEO64sgR76w"
      },
      "source": [
        "from tensorflow.keras.layers import RNN\n",
        "from tensorflow.keras.layers import SimpleRNN\n",
        "from tensorflow.keras.layers import LSTM"
      ],
      "execution_count": 36,
      "outputs": []
    },
    {
      "cell_type": "markdown",
      "metadata": {
        "id": "8ZYDdGkfg356"
      },
      "source": [
        "### Warstwa osadzeń\n",
        "* **Embedding** - warstwa osadzeń, przekształca wartości całkowite na gęste wektory osadzeń. Stosowana tylko jako pierwsza warstwa modelu"
      ]
    },
    {
      "cell_type": "code",
      "metadata": {
        "id": "qulTBIaET-Oa",
        "outputId": "3377320b-2632-4dd4-cb44-556c50d79777",
        "colab": {
          "base_uri": "https://localhost:8080/"
        }
      },
      "source": [
        "from tensorflow.keras.layers import Embedding\n",
        "\n",
        "# input_dim - rozmiar słownika, maksymalny indeks w słowniku + 1\n",
        "# output_dim - wymiar osazdenia\n",
        "# input_length - długość sekwencji, jeśli jest stała\n",
        "embedding = Embedding(input_dim=1000, output_dim=64, input_length=10)"
      ],
      "execution_count": 37,
      "outputs": [
        {
          "output_type": "stream",
          "name": "stderr",
          "text": [
            "/usr/local/lib/python3.11/dist-packages/keras/src/layers/core/embedding.py:90: UserWarning: Argument `input_length` is deprecated. Just remove it.\n",
            "  warnings.warn(\n"
          ]
        }
      ]
    },
    {
      "cell_type": "code",
      "metadata": {
        "id": "Od8KKVhkhKEm"
      },
      "source": [],
      "execution_count": null,
      "outputs": []
    }
  ]
}