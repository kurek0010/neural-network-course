{
  "nbformat": 4,
  "nbformat_minor": 0,
  "metadata": {
    "colab": {
      "name": "Untitled0.ipynb",
      "provenance": [],
      "include_colab_link": true
    },
    "kernelspec": {
      "name": "python3",
      "display_name": "Python 3"
    }
  },
  "cells": [
    {
      "cell_type": "markdown",
      "metadata": {
        "id": "view-in-github",
        "colab_type": "text"
      },
      "source": [
        "<a href=\"https://colab.research.google.com/github/kurek0010/neural-network-course/blob/master/07_rnn/01_text_preprocessing.ipynb\" target=\"_parent\"><img src=\"https://colab.research.google.com/assets/colab-badge.svg\" alt=\"Open In Colab\"/></a>"
      ]
    },
    {
      "cell_type": "markdown",
      "metadata": {
        "id": "v_X7jpgqlRyb"
      },
      "source": [
        "### Preprocessing danych tekstowch - wektoryzacja tekstu\n",
        "\n",
        "1. [Podział tekstu na słowa](#a0)\n",
        "2. [Kodowanie *one_hot()*](#a1)\n",
        "3. [Kodowanie *hashing_trick()*](#a2)\n",
        "4. [Tokenizer](#a3)\n",
        "\n",
        "Nie możemy wprowadzić bezpośrednio danych tekstowych do sieci neuronowej! Musimy te dane odpowiednio przygotować (preprocessing). Dane tekstowe muszą zostać zakodowane za pomocą liczb aby mogły być wprowadzone do sieci neuronowej.\n",
        "\n",
        "Biblioteka Keras zawiera kilka narzędzi, które możemy wykorzystać do przygotowania naszych danych."
      ]
    },
    {
      "cell_type": "markdown",
      "metadata": {
        "id": "3vlI9iE3pLNa"
      },
      "source": [
        "### <a name='a0'></a> Podział tekstu na słowa\n",
        "\n",
        "Często w NLP - Natural Language Processing używamy słowa token. Tokenem może być pojedyńczy znak, a także cały wyraz. Wsystko zależy od kontekstu i potrzeb. Apy podzielić tekst na tokeny (w tym przypadku wyrazy) użyjemy funkcji *text_to_word_sequence()*"
      ]
    },
    {
      "cell_type": "code",
      "metadata": {
        "id": "me1IMXXHpIgh",
        "colab": {
          "base_uri": "https://localhost:8080/"
        },
        "outputId": "581f5af7-688a-4e8a-8621-0b0a1e7183d3"
      },
      "source": [
        "from tensorflow.keras.preprocessing.text import text_to_word_sequence\n",
        "\n",
        "text = 'Keras is a high-level neural networks API, written in Python and capable of running on top of TensorFlow, CNTK, or Theano.'\n",
        "\n",
        "tokens = text_to_word_sequence(text)\n",
        "tokens"
      ],
      "execution_count": 1,
      "outputs": [
        {
          "output_type": "execute_result",
          "data": {
            "text/plain": [
              "['keras',\n",
              " 'is',\n",
              " 'a',\n",
              " 'high',\n",
              " 'level',\n",
              " 'neural',\n",
              " 'networks',\n",
              " 'api',\n",
              " 'written',\n",
              " 'in',\n",
              " 'python',\n",
              " 'and',\n",
              " 'capable',\n",
              " 'of',\n",
              " 'running',\n",
              " 'on',\n",
              " 'top',\n",
              " 'of',\n",
              " 'tensorflow',\n",
              " 'cntk',\n",
              " 'or',\n",
              " 'theano']"
            ]
          },
          "metadata": {},
          "execution_count": 1
        }
      ]
    },
    {
      "cell_type": "markdown",
      "metadata": {
        "id": "b73WDqyIqchw"
      },
      "source": [
        "### <a name='a1'></a> Kodowanie *one_hot()*\n",
        "\n",
        "Nazwa sugeruje, że tworzymy kodowanie zero-jednykowe dokumentu, co nie jest prawdą. Polega na przedstawieniu każdego słowa jako unikalnej liczby całkowitej. *one_hot(text, n)* koduje tekst do listy indeksów słów o rozmiarze n. Jest to opakowanie funkcji hashing_trick używającej hash jako funkcji hashującej.\n",
        "\n",
        "Jednoznaczność mapowania słów na indeksy nie jest gwarantowana.  Zastosowanie funkcji hashującej może powodować kolizje i nie wszystkim słowom zostaną przypisane unikalne wartości całkowite.\n",
        "\n",
        "Oprócz tekstu należy podać rozmiar słownika. Może to być łączna liczba słów w dokumencie lub więcej, jeśli zamierzamy zakodować dodatkowe dokumenty zawierające dodatkowe słowa.\n",
        "\n",
        " Rozmiar słownika określa przestrzeń hashująca, z której słowa są hashowane. Najlepiej byłoby, gdyby był on większy niż słownik o pewien procent (np. 25%), aby zminimalizować liczbę kolizji."
      ]
    },
    {
      "cell_type": "code",
      "metadata": {
        "id": "2BVXixRQGH8l",
        "colab": {
          "base_uri": "https://localhost:8080/"
        },
        "outputId": "1a09a004-0a93-45b9-d068-7201021a7a80"
      },
      "source": [
        "hash('sieć')"
      ],
      "execution_count": 2,
      "outputs": [
        {
          "output_type": "execute_result",
          "data": {
            "text/plain": [
              "7179428670669868501"
            ]
          },
          "metadata": {},
          "execution_count": 2
        }
      ]
    },
    {
      "cell_type": "code",
      "metadata": {
        "id": "EWeGs1X3Gf4m",
        "colab": {
          "base_uri": "https://localhost:8080/"
        },
        "outputId": "f13b7fb8-aec6-4080-d42a-96582b8ad1d4"
      },
      "source": [
        "hash('sieć') % 100"
      ],
      "execution_count": 3,
      "outputs": [
        {
          "output_type": "execute_result",
          "data": {
            "text/plain": [
              "1"
            ]
          },
          "metadata": {},
          "execution_count": 3
        }
      ]
    },
    {
      "cell_type": "code",
      "metadata": {
        "id": "61BcpUUiGPXJ",
        "colab": {
          "base_uri": "https://localhost:8080/"
        },
        "outputId": "25901e7b-9936-4d55-905e-618a24566776"
      },
      "source": [
        "hash('neuronowa')"
      ],
      "execution_count": 4,
      "outputs": [
        {
          "output_type": "execute_result",
          "data": {
            "text/plain": [
              "3187639197126088644"
            ]
          },
          "metadata": {},
          "execution_count": 4
        }
      ]
    },
    {
      "cell_type": "code",
      "metadata": {
        "id": "1TBwBWt4GTJ1",
        "colab": {
          "base_uri": "https://localhost:8080/"
        },
        "outputId": "8559ab2c-7299-4fee-d616-15fa72965bfd"
      },
      "source": [
        "hash('sieć')"
      ],
      "execution_count": 5,
      "outputs": [
        {
          "output_type": "execute_result",
          "data": {
            "text/plain": [
              "7179428670669868501"
            ]
          },
          "metadata": {},
          "execution_count": 5
        }
      ]
    },
    {
      "cell_type": "code",
      "metadata": {
        "id": "Dd_I9uaprTty",
        "colab": {
          "base_uri": "https://localhost:8080/"
        },
        "outputId": "fbb1d2bd-eca7-4e97-f5d1-b87e1f4ce962"
      },
      "source": [
        "from tensorflow.keras.preprocessing.text import one_hot\n",
        "\n",
        "words = set(tokens)\n",
        "one_hot_tokens = one_hot(text, round(len(words) * 1.4))\n",
        "one_hot_tokens"
      ],
      "execution_count": 7,
      "outputs": [
        {
          "output_type": "execute_result",
          "data": {
            "text/plain": [
              "[21,\n",
              " 15,\n",
              " 24,\n",
              " 21,\n",
              " 12,\n",
              " 16,\n",
              " 9,\n",
              " 5,\n",
              " 11,\n",
              " 7,\n",
              " 17,\n",
              " 13,\n",
              " 18,\n",
              " 11,\n",
              " 2,\n",
              " 2,\n",
              " 26,\n",
              " 11,\n",
              " 20,\n",
              " 7,\n",
              " 7,\n",
              " 26]"
            ]
          },
          "metadata": {},
          "execution_count": 7
        }
      ]
    },
    {
      "cell_type": "markdown",
      "metadata": {
        "id": "s5Hqu8FJuzeS"
      },
      "source": [
        "### <a name='a2'></a> Kodowanie *hashing_trick()*"
      ]
    },
    {
      "cell_type": "code",
      "metadata": {
        "id": "p5E8P4w2u3Zv",
        "colab": {
          "base_uri": "https://localhost:8080/"
        },
        "outputId": "ee92ebb3-076a-42b7-94f7-080c3b6c039c"
      },
      "source": [
        "from tensorflow.keras.preprocessing.text import hashing_trick\n",
        "\n",
        "hashing_trick(text, round(len(words) * 1.3), hash_function='md5')"
      ],
      "execution_count": 10,
      "outputs": [
        {
          "output_type": "execute_result",
          "data": {
            "text/plain": [
              "[7,\n",
              " 20,\n",
              " 22,\n",
              " 24,\n",
              " 20,\n",
              " 14,\n",
              " 19,\n",
              " 11,\n",
              " 10,\n",
              " 4,\n",
              " 4,\n",
              " 15,\n",
              " 19,\n",
              " 15,\n",
              " 18,\n",
              " 23,\n",
              " 14,\n",
              " 15,\n",
              " 5,\n",
              " 20,\n",
              " 2,\n",
              " 8]"
            ]
          },
          "metadata": {},
          "execution_count": 10
        }
      ]
    },
    {
      "cell_type": "markdown",
      "metadata": {
        "id": "QfMd5M9TlwPy"
      },
      "source": [
        "### <a name='a3'></a> Tokenizer\n",
        "Keras dostarcza klasę Tokenizer do przygotowywania dokumentów tekstowych do uczenia głębokiego.\n",
        "\n",
        "Klasa *Tokenizer* pozwala zamienić każdy tekst na sekwencję liczb całkowitych w taki sposób, że każda liczba całkowita jest indeksem tokenu w słowniku. Tokenem zazwyczaj jest pojedyncze słowo. Zero jest zarezerwowanym ideksem i nie może zostać przypisane do żadnego słowa."
      ]
    },
    {
      "cell_type": "code",
      "metadata": {
        "id": "P4HmQB8elcfI"
      },
      "source": [
        "from tensorflow.keras.preprocessing.text import Tokenizer\n",
        "\n",
        "# num_words - zachowana zostanie określona liczba słów ze względu na częstotliwość\n",
        "tokenizer = Tokenizer()"
      ],
      "execution_count": 11,
      "outputs": []
    },
    {
      "cell_type": "code",
      "metadata": {
        "id": "h9RmalTmmrxp",
        "colab": {
          "base_uri": "https://localhost:8080/"
        },
        "outputId": "9ea5f708-e251-49e8-8777-5b72d38d8901"
      },
      "source": [
        "samples = ['Great picture!', 'Nice view', 'Good to see you :)', 'Good picture!', 'Good']\n",
        "\n",
        "tokenizer.fit_on_texts(samples)\n",
        "\n",
        "tokenizer.index_word"
      ],
      "execution_count": 12,
      "outputs": [
        {
          "output_type": "execute_result",
          "data": {
            "text/plain": [
              "{1: 'good',\n",
              " 2: 'picture',\n",
              " 3: 'great',\n",
              " 4: 'nice',\n",
              " 5: 'view',\n",
              " 6: 'to',\n",
              " 7: 'see',\n",
              " 8: 'you'}"
            ]
          },
          "metadata": {},
          "execution_count": 12
        }
      ]
    },
    {
      "cell_type": "code",
      "metadata": {
        "id": "4juXUFP0nHJ5",
        "colab": {
          "base_uri": "https://localhost:8080/"
        },
        "outputId": "08548c96-b97e-4947-9417-4075fde2049a"
      },
      "source": [
        "tokenizer.word_counts"
      ],
      "execution_count": 13,
      "outputs": [
        {
          "output_type": "execute_result",
          "data": {
            "text/plain": [
              "OrderedDict([('great', 1),\n",
              "             ('picture', 2),\n",
              "             ('nice', 1),\n",
              "             ('view', 1),\n",
              "             ('good', 3),\n",
              "             ('to', 1),\n",
              "             ('see', 1),\n",
              "             ('you', 1)])"
            ]
          },
          "metadata": {},
          "execution_count": 13
        }
      ]
    },
    {
      "cell_type": "code",
      "metadata": {
        "id": "9-DWVcdeoBj2",
        "colab": {
          "base_uri": "https://localhost:8080/"
        },
        "outputId": "f0f71261-f0be-48c0-cc04-8c2558ebf9aa"
      },
      "source": [
        "tokenizer.document_count"
      ],
      "execution_count": 14,
      "outputs": [
        {
          "output_type": "execute_result",
          "data": {
            "text/plain": [
              "5"
            ]
          },
          "metadata": {},
          "execution_count": 14
        }
      ]
    },
    {
      "cell_type": "markdown",
      "metadata": {
        "id": "_n0LPVKZwNxo"
      },
      "source": [
        "Po dopasowaniu Tokenizera do danych treningowych można go użyć do kodowania dokumentów danych treningowych jak i danych testowych.\n",
        "\n",
        "Funkcja *texts_to_matrix()* tworzy wektor dla każdego dokumentu. Długość wektora jest równa długości unikalnych słów we wszystkich dokumentach"
      ]
    },
    {
      "cell_type": "code",
      "metadata": {
        "id": "RcQY6xIVyNSu",
        "outputId": "9633790f-e215-47f8-a60b-fba7cffb3358",
        "colab": {
          "base_uri": "https://localhost:8080/"
        }
      },
      "source": [
        "print(tokenizer.index_word)"
      ],
      "execution_count": 15,
      "outputs": [
        {
          "output_type": "stream",
          "name": "stdout",
          "text": [
            "{1: 'good', 2: 'picture', 3: 'great', 4: 'nice', 5: 'view', 6: 'to', 7: 'see', 8: 'you'}\n"
          ]
        }
      ]
    },
    {
      "cell_type": "code",
      "metadata": {
        "id": "eoHbCSCvoQu0",
        "colab": {
          "base_uri": "https://localhost:8080/"
        },
        "outputId": "0dcded5f-cfd0-44c5-e04c-8e8d4d8c3dfc"
      },
      "source": [
        "tokenizer.texts_to_matrix(samples)"
      ],
      "execution_count": 16,
      "outputs": [
        {
          "output_type": "execute_result",
          "data": {
            "text/plain": [
              "array([[0., 0., 1., 1., 0., 0., 0., 0., 0.],\n",
              "       [0., 0., 0., 0., 1., 1., 0., 0., 0.],\n",
              "       [0., 1., 0., 0., 0., 0., 1., 1., 1.],\n",
              "       [0., 1., 1., 0., 0., 0., 0., 0., 0.],\n",
              "       [0., 1., 0., 0., 0., 0., 0., 0., 0.]])"
            ]
          },
          "metadata": {},
          "execution_count": 16
        }
      ]
    },
    {
      "cell_type": "code",
      "metadata": {
        "id": "_ko2M6i1K55C"
      },
      "source": [],
      "execution_count": null,
      "outputs": []
    }
  ]
}